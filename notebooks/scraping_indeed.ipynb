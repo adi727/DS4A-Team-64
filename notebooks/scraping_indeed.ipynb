{
 "cells": [
  {
   "cell_type": "markdown",
   "metadata": {},
   "source": [
    "# Indeed Job Scraper"
   ]
  },
  {
   "cell_type": "markdown",
   "metadata": {},
   "source": [
    "Creating a general purpose job scraper for www.indeed.com"
   ]
  },
  {
   "cell_type": "code",
   "execution_count": 14,
   "metadata": {},
   "outputs": [],
   "source": [
    "import csv\n",
    "from datetime import datetime\n",
    "import requests\n",
    "from bs4 import BeautifulSoup"
   ]
  },
  {
   "cell_type": "code",
   "execution_count": 15,
   "metadata": {},
   "outputs": [],
   "source": [
    "template = 'https://www.indeed.com/jobs?q={}&l={}'"
   ]
  },
  {
   "cell_type": "code",
   "execution_count": 16,
   "metadata": {},
   "outputs": [],
   "source": [
    "def get_url(position, location):\n",
    "    '''Generate a url from position and location'''\n",
    "    template = 'https://www.indeed.com/jobs?q={}&l={}'\n",
    "    url = template.format(position, location)\n",
    "    return url"
   ]
  },
  {
   "cell_type": "code",
   "execution_count": 17,
   "metadata": {},
   "outputs": [],
   "source": [
    "url = get_url('data analyst', 'chicago il')"
   ]
  },
  {
   "cell_type": "code",
   "execution_count": 18,
   "metadata": {},
   "outputs": [],
   "source": [
    "response = requests.get(url)"
   ]
  },
  {
   "cell_type": "code",
   "execution_count": 19,
   "metadata": {},
   "outputs": [
    {
     "data": {
      "text/plain": [
       "<Response [200]>"
      ]
     },
     "execution_count": 19,
     "metadata": {},
     "output_type": "execute_result"
    }
   ],
   "source": [
    "response"
   ]
  },
  {
   "cell_type": "code",
   "execution_count": 20,
   "metadata": {},
   "outputs": [
    {
     "data": {
      "text/plain": [
       "'OK'"
      ]
     },
     "execution_count": 20,
     "metadata": {},
     "output_type": "execute_result"
    }
   ],
   "source": [
    "response.reason"
   ]
  },
  {
   "cell_type": "code",
   "execution_count": 21,
   "metadata": {},
   "outputs": [],
   "source": [
    "soup = BeautifulSoup(response.text, 'html.parser')"
   ]
  },
  {
   "cell_type": "code",
   "execution_count": 22,
   "metadata": {},
   "outputs": [],
   "source": [
    "cards = soup.find_all('div', 'jobsearch-SerpJobCard')"
   ]
  },
  {
   "cell_type": "code",
   "execution_count": 23,
   "metadata": {},
   "outputs": [
    {
     "data": {
      "text/plain": [
       "15"
      ]
     },
     "execution_count": 23,
     "metadata": {},
     "output_type": "execute_result"
    }
   ],
   "source": [
    "len(cards)"
   ]
  },
  {
   "cell_type": "code",
   "execution_count": 24,
   "metadata": {},
   "outputs": [
    {
     "data": {
      "text/plain": [
       "[<div class=\"jobsearch-SerpJobCard unifiedRow row result\" data-ci=\"303289378\" data-empn=\"2765878446998520\" data-jk=\"7b1922bbba748faf\" data-tu=\"https://click.appcast.io/jview-te8/a31.png?ent=8&amp;e=4140&amp;jid=4140_228366C2_338480743&amp;org=false&amp;src=192&amp;bid=KHgwUWSxZ4GFz7JIIHMg4A==&amp;jg=12rw&amp;indeed=sp\" id=\"pj_7b1922bbba748faf\">\n",
       " <style>\n",
       " .jobcard_logo{margin:6px 0}.jobcard_logo img{width:auto;max-width:80px;max-height:30px}.jasxrefreshcombotst .jobcard_logo img{max-height:2rem;max-width:100%}\n",
       " </style>\n",
       " <h2 class=\"title\">\n",
       " <a class=\"jobtitle turnstileLink\" data-tn-element=\"jobTitle\" href=\"/pagead/clk?mo=r&amp;ad=-6NYlbfkN0DE3Uz-7uTnSJNZlBBgxWZakqjdzsm9IcLRq2ubJUfUV1hRgQLwqvIKdyaOD2havv9T1kZAwXCbXk4WknHdMUER3FwQGnP_FyJbZTsd4c2NBzF-EolLURjB1ZsYZ3Ro-p_OI--l4uTC7Z9Tj_FTOL1C6uDXNEykRDnRZKQ-xPWwlo7g1mOIOFXWtAu-OZpOVw26pCQFR-1JasoUxEQiX09mA_hxgC-rUISX5Ho7rUzCtBewSl3F8uELW-ZyC115igKiZItJIb5tupOtLaDaai3PBFvEZgp02XECptvKKReU1bYju58FZ6iIKLxH9eXWpGGxrH5T1IJzmjbw9xf9Cj8-Fh340QMSVctc4rWU2kTr4v0itjdFxWDL1TImF4VJW4nCayGoZGFRs2c7DElOagI30dJxGfXSHwDn_hS2XyKJMYm0TYqZRpRah-gJCbkztISwcX8r_7iK5-MUJFx9ESbHvT9OYIWBu2_bVT3ar89fPltT7XfVhztZb50fsjmGKGiIYg5SMZDNjQ==&amp;p=0&amp;fvj=0&amp;vjs=3\" id=\"sja0\" onclick=\"setRefineByCookie([]); sjoc('sja0', 0); convCtr('SJ'); rclk(this,jobmap[0],true,0);\" onmousedown=\"sjomd('sja0'); clk('sja0'); rclk(this,jobmap[0],0);\" rel=\"noopener nofollow\" target=\"_blank\" title=\"Analyst, Data Analytics\">\n",
       " <b>Analyst</b>, <b>Data</b> Analytics</a>\n",
       " <span class=\"new\">new</span></h2>\n",
       " <div class=\"sjcl\">\n",
       " <div>\n",
       " <span class=\"company\">\n",
       " <a class=\"turnstileLink\" data-tn-element=\"companyName\" href=\"/cmp/Exelon\" onmousedown=\"this.href = appendParamsOnce(this.href, 'from=SERP&amp;campaignid=serp-linkcompanyname&amp;fromjk=7b1922bbba748faf&amp;jcid=edc3e0381f52a252')\" rel=\"noopener\" target=\"_blank\">\n",
       " Exelon Corporation</a></span>\n",
       " <span class=\"ratingsDisplay\">\n",
       " <a aria-label=\"Company rating 3.9 out of 5 stars\" class=\"ratingNumber\" data-tn-variant=\"cmplinktst2\" href=\"/cmp/Exelon/reviews\" onmousedown=\"this.href = appendParamsOnce(this.href, '?campaignid=cmplinktst2&amp;from=SERP&amp;jt=Analyst%2C+Data+Analytics&amp;fromjk=7b1922bbba748faf&amp;jcid=edc3e0381f52a252');\" rel=\"noopener\" target=\"_blank\" title=\"Exelon Corporation reviews\"></a>\n",
       " <span class=\"ratingsContent\">\n",
       " 3.9<svg class=\"starIcon\" height=\"12px\" role=\"img\" width=\"12px\">\n",
       " <g>\n",
       " <path d=\"M 12.00,4.34 C 12.00,4.34 7.69,3.97 7.69,3.97 7.69,3.97 6.00,0.00 6.00,0.00 6.00,0.00 4.31,3.98 4.31,3.98 4.31,3.98 0.00,4.34 0.00,4.34 0.00,4.34 3.28,7.18 3.28,7.18 3.28,7.18 2.29,11.40 2.29,11.40 2.29,11.40 6.00,9.16 6.00,9.16 6.00,9.16 9.71,11.40 9.71,11.40 9.71,11.40 8.73,7.18 8.73,7.18 8.73,7.18 12.00,4.34 12.00,4.34 Z\" style=\"fill: #FFB103\"></path>\n",
       " </g>\n",
       " </svg>\n",
       " </span>\n",
       " </span></div></div></div>,\n",
       " <div class=\"jobsearch-SerpJobCard unifiedRow row result\" data-ci=\"327633329\" data-empn=\"6677433610633256\" data-jk=\"210f17e675b6f16c\" id=\"pj_210f17e675b6f16c\">\n",
       " <style>\n",
       " .jobcard_logo{margin:6px 0}.jobcard_logo img{width:auto;max-width:80px;max-height:30px}.jasxrefreshcombotst .jobcard_logo img{max-height:2rem;max-width:100%}\n",
       " </style>\n",
       " <div class=\"jobcard_logo\">\n",
       " <a href=\"/cmp/Acquire-Health\" onmousedown=\"this.href = appendParamsOnce(this.href, 'tk=1eoqpfcha353b000&amp;campaignid=femp&amp;from=femp');\" rel=\"noopener\" target=\"_blank\">\n",
       " <img alt=\"Acquire Health - go to company page\" src=\"https://d2q79iu7y748jz.cloudfront.net/s/_logo/4f58c80a2fe893da5d093904928bf456\"/>\n",
       " </a>\n",
       " </div>\n",
       " <h2 class=\"title\">\n",
       " <a class=\"jobtitle turnstileLink\" data-tn-element=\"jobTitle\" href=\"/pagead/clk?mo=r&amp;ad=-6NYlbfkN0Dc2zUiIsQASzXLozlpCQXlMPOypP54fr3HwipRd46hZTgCsevBposCvmHzdQUg0U9O5p6_XzHrqjsa849p16Lo1tQVFDkg1XNeJpiUKB2xR2YN0nfUvP89Dm2bXReIwuPxvnIGtpOVONebbt1_drn5_Fn2H5nXjYgMcXZrOFsQqm-Lx20lb42VpCZRZJH6GQqtwSRopszPDot_v9O9JQELKKaTKMVVFeVdX3fpErHfqeVvQiVRIWI11SzIFEeo_q0akhJGp9aT4d2Nu8aIwrnZnpz0wtQkgP0KFIr1ZP7n9GCAg-zNyamIOFcUXOUr6ijruwUO7DLw8bO1PvxXT5jesyPTCtUCS2CM8n1NJh0PNBC2s-zR2PQloti9kUo2MJWQBvnYjsyjf3Z4ua4ymaY8NaOqdW7llFU1JK9jXsLlZ4c4cRV8A9sBq-yB4MD_7chgIqC1IFoJ7Q==&amp;p=1&amp;fvj=1&amp;vjs=3\" id=\"sja1\" onclick=\"setRefineByCookie([]); sjoc('sja1', 1); convCtr('SJ'); rclk(this,jobmap[1],true,1);\" onmousedown=\"sjomd('sja1'); clk('sja1'); rclk(this,jobmap[1],1);\" rel=\"noopener nofollow\" target=\"_blank\" title=\"Data Analyst\">\n",
       " <b>Data</b> <b>Analyst</b></a>\n",
       " <span class=\"new\">new</span></h2>\n",
       " <div class=\"sjcl\">\n",
       " <div>\n",
       " <span class=\"company\">\n",
       " <a class=\"turnstileLink\" data-tn-element=\"companyName\" href=\"/cmp/Acquire-Health\" onmousedown=\"this.href = appendParamsOnce(this.href, 'from=SERP&amp;campaignid=serp-linkcompanyname&amp;fromjk=210f17e675b6f16c&amp;jcid=c152de6b680e783b')\" rel=\"noopener\" target=\"_blank\">\n",
       " Acquire Health</a></span>\n",
       " <span class=\"ratingsDisplay\">\n",
       " <a aria-label=\"Company rating 5.0 out of 5 stars\" class=\"ratingNumber\" data-tn-variant=\"cmplinktst2\" href=\"/cmp/Acquire-Health/reviews\" onmousedown=\"this.href = appendParamsOnce(this.href, '?campaignid=cmplinktst2&amp;from=SERP&amp;jt=Data+Analyst&amp;fromjk=210f17e675b6f16c&amp;jcid=c152de6b680e783b');\" rel=\"noopener\" target=\"_blank\" title=\"Acquire Health reviews\"></a>\n",
       " <span class=\"ratingsContent\">\n",
       " 5.0<svg class=\"starIcon\" height=\"12px\" role=\"img\" width=\"12px\">\n",
       " <g>\n",
       " <path d=\"M 12.00,4.34 C 12.00,4.34 7.69,3.97 7.69,3.97 7.69,3.97 6.00,0.00 6.00,0.00 6.00,0.00 4.31,3.98 4.31,3.98 4.31,3.98 0.00,4.34 0.00,4.34 0.00,4.34 3.28,7.18 3.28,7.18 3.28,7.18 2.29,11.40 2.29,11.40 2.29,11.40 6.00,9.16 6.00,9.16 6.00,9.16 9.71,11.40 9.71,11.40 9.71,11.40 8.73,7.18 8.73,7.18 8.73,7.18 12.00,4.34 12.00,4.34 Z\" style=\"fill: #FFB103\"></path>\n",
       " </g>\n",
       " </svg>\n",
       " </span>\n",
       " </span></div></div></div>,\n",
       " <div class=\"jobsearch-SerpJobCard unifiedRow row result\" data-ci=\"344205396\" data-empn=\"1013821867581772\" data-jk=\"2ed15f064663c5fc\" id=\"pj_2ed15f064663c5fc\">\n",
       " <style>\n",
       " .jobcard_logo{margin:6px 0}.jobcard_logo img{width:auto;max-width:80px;max-height:30px}.jasxrefreshcombotst .jobcard_logo img{max-height:2rem;max-width:100%}\n",
       " </style>\n",
       " <h2 class=\"title\">\n",
       " <a class=\"jobtitle turnstileLink\" data-tn-element=\"jobTitle\" href=\"/pagead/clk?mo=r&amp;ad=-6NYlbfkN0A15keU9CoH3JeQiPvhf35k93-LrqLpoZK-Sj8l0Ye6b6Gd8tAhKIFKXC2AR4YNBi5fymxXF4zMF3YFy9Y7fBUyWUA4fJT8G-_pKoZdQF0jdqDQ3pEdLYscTxpN5C41tQ6pUP-KBOGKFu-HSVLjzItAnEx4hirYirpHci0rpuchV2RyZyhnx-bYhgffqPFSBneCAss7V187RGOJu2Jl4elCbUgkXxgPWkwaYQtJqYkRjku-tRV14NhBzLwEeCr5DS-XfZOkV-vVIM8_geQKVLe7mZ4ZHQvupSpC7GJFv5CTk045JXHRUlBRz_t_EhEXjsGcnvauHlW7TeoAXRrrzkqWeUaETeRiaQHIETrkIA8MD2lfijcT-H8ClInSxSG-nPJyoYtjvqodPTOGS7ANDvwd7w_WbAZvPYZUbyp8wXyiim4kBnTsgCHUzhhhV9ounfRmATZ-RbHDrIEWAHctuz0vhOrJSg5zpIfSbhPfxYV_Qz5HkWFBYFW9DFCMiQ2KKYGxcL1OIjjEcjcuwy78Ux0KGAE1r9jQur3rvnfja1JdTrHH4t2bXlpQ&amp;p=2&amp;fvj=0&amp;vjs=3\" id=\"sja2\" onclick=\"setRefineByCookie([]); sjoc('sja2', 0); convCtr('SJ'); rclk(this,jobmap[2],true,0);\" onmousedown=\"sjomd('sja2'); clk('sja2'); rclk(this,jobmap[2],0);\" rel=\"noopener nofollow\" target=\"_blank\" title=\"Data Quality Analyst - Full Time, Days\">\n",
       " <b>Data</b> Quality <b>Analyst</b> - Full Time, Days</a>\n",
       " </h2>\n",
       " <div class=\"sjcl\">\n",
       " <div>\n",
       " <span class=\"company\">\n",
       " <a class=\"turnstileLink\" data-tn-element=\"companyName\" href=\"/cmp/Amita-Health\" onmousedown=\"this.href = appendParamsOnce(this.href, 'from=SERP&amp;campaignid=serp-linkcompanyname&amp;fromjk=2ed15f064663c5fc&amp;jcid=2c6c492fbcf889b9')\" rel=\"noopener\" target=\"_blank\">\n",
       " AMITA Health</a></span>\n",
       " <span class=\"ratingsDisplay\">\n",
       " <a aria-label=\"Company rating 3.7 out of 5 stars\" class=\"ratingNumber\" data-tn-variant=\"cmplinktst2\" href=\"/cmp/Amita-Health/reviews\" onmousedown=\"this.href = appendParamsOnce(this.href, '?campaignid=cmplinktst2&amp;from=SERP&amp;jt=Data+Quality+Analyst+-+Full+Time%2C+Days&amp;fromjk=2ed15f064663c5fc&amp;jcid=2c6c492fbcf889b9');\" rel=\"noopener\" target=\"_blank\" title=\"Amita Health reviews\"></a>\n",
       " <span class=\"ratingsContent\">\n",
       " 3.7<svg class=\"starIcon\" height=\"12px\" role=\"img\" width=\"12px\">\n",
       " <g>\n",
       " <path d=\"M 12.00,4.34 C 12.00,4.34 7.69,3.97 7.69,3.97 7.69,3.97 6.00,0.00 6.00,0.00 6.00,0.00 4.31,3.98 4.31,3.98 4.31,3.98 0.00,4.34 0.00,4.34 0.00,4.34 3.28,7.18 3.28,7.18 3.28,7.18 2.29,11.40 2.29,11.40 2.29,11.40 6.00,9.16 6.00,9.16 6.00,9.16 9.71,11.40 9.71,11.40 9.71,11.40 8.73,7.18 8.73,7.18 8.73,7.18 12.00,4.34 12.00,4.34 Z\" style=\"fill: #FFB103\"></path>\n",
       " </g>\n",
       " </svg>\n",
       " </span>\n",
       " </span></div></div></div>,\n",
       " <div class=\"jobsearch-SerpJobCard unifiedRow row result\" data-jk=\"16c0bd614375bf50\" data-tn-component=\"organicJob\" id=\"p_16c0bd614375bf50\">\n",
       " <h2 class=\"title\">\n",
       " <a class=\"jobtitle turnstileLink\" data-tn-element=\"jobTitle\" href=\"/company/Harris-&amp;-Harris/jobs/Data-Analyst-16c0bd614375bf50?fccid=3c6e57bbfdcf9e6d&amp;vjs=3\" id=\"jl_16c0bd614375bf50\" onclick=\"setRefineByCookie([]); return rclk(this,jobmap[3],true,1);\" onmousedown=\"return rclk(this,jobmap[3],1);\" rel=\"noopener nofollow\" target=\"_blank\" title=\"Data Analyst\">\n",
       " <b>Data</b> <b>Analyst</b></a>\n",
       " <span class=\"new\">new</span></h2>\n",
       " <div class=\"sjcl\">\n",
       " <div>\n",
       " <span class=\"company\">\n",
       " <a class=\"turnstileLink\" data-tn-element=\"companyName\" href=\"/cmp/Harris-&amp;-Harris\" onmousedown=\"this.href = appendParamsOnce(this.href, 'from=SERP&amp;campaignid=serp-linkcompanyname&amp;fromjk=16c0bd614375bf50&amp;jcid=3c6e57bbfdcf9e6d')\" rel=\"noopener\" target=\"_blank\">\n",
       " Harris &amp; Harris</a></span>\n",
       " <span class=\"ratingsDisplay\">\n",
       " <a aria-label=\"Company rating 3.1 out of 5 stars\" class=\"ratingNumber\" data-tn-variant=\"cmplinktst2\" href=\"/cmp/Harris-&amp;-Harris/reviews\" onmousedown=\"this.href = appendParamsOnce(this.href, '?campaignid=cmplinktst2&amp;from=SERP&amp;jt=Data+Analyst&amp;fromjk=16c0bd614375bf50&amp;jcid=3c6e57bbfdcf9e6d');\" rel=\"noopener\" target=\"_blank\" title=\"Harris &amp; Harris reviews\"></a>\n",
       " <span class=\"ratingsContent\">\n",
       " 3.1<svg class=\"starIcon\" height=\"12px\" role=\"img\" width=\"12px\">\n",
       " <g>\n",
       " <path d=\"M 12.00,4.34 C 12.00,4.34 7.69,3.97 7.69,3.97 7.69,3.97 6.00,0.00 6.00,0.00 6.00,0.00 4.31,3.98 4.31,3.98 4.31,3.98 0.00,4.34 0.00,4.34 0.00,4.34 3.28,7.18 3.28,7.18 3.28,7.18 2.29,11.40 2.29,11.40 2.29,11.40 6.00,9.16 6.00,9.16 6.00,9.16 9.71,11.40 9.71,11.40 9.71,11.40 8.73,7.18 8.73,7.18 8.73,7.18 12.00,4.34 12.00,4.34 Z\" style=\"fill: #FFB103\"></path>\n",
       " </g>\n",
       " </svg>\n",
       " </span>\n",
       " </span></div></div></div>,\n",
       " <div class=\"jobsearch-SerpJobCard unifiedRow row result\" data-ci=\"8972806\" data-empn=\"6613095622180756\" data-jk=\"5925b374c9e5a828\" id=\"pj_5925b374c9e5a828\">\n",
       " <style>\n",
       " .jobcard_logo{margin:6px 0}.jobcard_logo img{width:auto;max-width:80px;max-height:30px}.jasxrefreshcombotst .jobcard_logo img{max-height:2rem;max-width:100%}\n",
       " </style>\n",
       " <h2 class=\"title\">\n",
       " <a class=\"jobtitle turnstileLink\" data-tn-element=\"jobTitle\" href=\"/pagead/clk?mo=r&amp;ad=-6NYlbfkN0D19kSVUiNzG2UWy1lRGehFMusHrHGUl8ru40ax50wmt29AqbgYEg5yPLUzthGgtVyBPPILPNd8BsozK-CWD0JSdwoSBBARB53BCCIIgpdNBw8kWlRT2Uq-CLu_mfNx19WPOHuCbmN7IWIxkEI0jxi30n7Um4K6_zHZw-OBnYa3hkwUuw7SL-yAXL-mpLnplE-UGex1QZ8H1TP9CZXIAxY65cbiaEEnglVi58bCch5gAqSkG3PKk-hsfCtMXSoczXsbGlq8Yw_YtzYMXhQDT9Yd-sTvvhsCVUUfteZrcPrVKbNTcOSWVIbwkmB7erxScJATnpYBW6oN_JgJaaCXGBabRFSjtS-oM5hd__oFH-gp1sOIHDzmTzQCK7hORKsDaiX2AV1IO_BOVR73N4k6xkJU60R-Y9oy7d2cgSBkaPrphkIMwdKivwMYiJXW_FSTVKWEOXMkEQ52gmYWlu4sWSI-hswZE-bwnnEogGUkY6vi4SHbgkqNv7w-KblUN0z0onVMcqUg9OiIK2kKx3NKCKs0-P08k-h7nM1w7FFivlB5cjB30A1cYI37mywvgMbDl4ePEkAkr2kF0P0mhGe92UVDHApBEGX8Eh0sX3oKA2-Jjyx5YmVvryKnDYIknwkW4alofMjRrexGjGSmZDpteUyIi80GjiEHPg9QXuDwQXs29Xo4RjIaVMmefq6MM9jAImkN5YpU5aiO80bvBJKZFnfJhkBXAXE65l-DWGz-HafXCOXDSWmjGK7-6OVGNP4tmrqSROHXYorXyo6QFjIx1FS1BiNKLzV5gauf84tumvET3qIKeh8pco0v36TGy6g_HMesGDiKcAz7pMCpHi9W76GQGnPa1U1MazNL1wx1bJIJIz9gfFFznwDfVhG5m39p7-qviuQMhu9vRk5p5-eKROnl&amp;p=4&amp;fvj=0&amp;vjs=3\" id=\"sja4\" onclick=\"setRefineByCookie([]); sjoc('sja4', 1); convCtr('SJ'); rclk(this,jobmap[4],true,1);\" onmousedown=\"sjomd('sja4'); clk('sja4'); rclk(this,jobmap[4],1);\" rel=\"noopener nofollow\" target=\"_blank\" title=\"Business Analyst l\">\n",
       " Business <b>Analyst</b> l</a>\n",
       " <span class=\"new\">new</span></h2>\n",
       " <div class=\"sjcl\">\n",
       " <div>\n",
       " <span class=\"company\">\n",
       " <a class=\"turnstileLink\" data-tn-element=\"companyName\" href=\"/cmp/Liberty-Mutual-Insurance\" onmousedown=\"this.href = appendParamsOnce(this.href, 'from=SERP&amp;campaignid=serp-linkcompanyname&amp;fromjk=5925b374c9e5a828&amp;jcid=f33a9750898d12d4')\" rel=\"noopener\" target=\"_blank\">\n",
       " Liberty Mutual Insurance</a></span>\n",
       " <span class=\"ratingsDisplay\">\n",
       " <a aria-label=\"Company rating 3.6 out of 5 stars\" class=\"ratingNumber\" data-tn-variant=\"cmplinktst2\" href=\"/cmp/Liberty-Mutual-Insurance/reviews\" onmousedown=\"this.href = appendParamsOnce(this.href, '?campaignid=cmplinktst2&amp;from=SERP&amp;jt=Business+Analyst+l&amp;fromjk=5925b374c9e5a828&amp;jcid=f33a9750898d12d4');\" rel=\"noopener\" target=\"_blank\" title=\"Liberty Mutual Insurance reviews\"></a>\n",
       " <span class=\"ratingsContent\">\n",
       " 3.6<svg class=\"starIcon\" height=\"12px\" role=\"img\" width=\"12px\">\n",
       " <g>\n",
       " <path d=\"M 12.00,4.34 C 12.00,4.34 7.69,3.97 7.69,3.97 7.69,3.97 6.00,0.00 6.00,0.00 6.00,0.00 4.31,3.98 4.31,3.98 4.31,3.98 0.00,4.34 0.00,4.34 0.00,4.34 3.28,7.18 3.28,7.18 3.28,7.18 2.29,11.40 2.29,11.40 2.29,11.40 6.00,9.16 6.00,9.16 6.00,9.16 9.71,11.40 9.71,11.40 9.71,11.40 8.73,7.18 8.73,7.18 8.73,7.18 12.00,4.34 12.00,4.34 Z\" style=\"fill: #FFB103\"></path>\n",
       " </g>\n",
       " </svg>\n",
       " </span>\n",
       " </span></div></div></div>,\n",
       " <div class=\"jobsearch-SerpJobCard unifiedRow row result\" data-jk=\"5f5d9a6274ae9260\" data-tn-component=\"organicJob\" id=\"p_5f5d9a6274ae9260\">\n",
       " <h2 class=\"title\">\n",
       " <a class=\"jobtitle turnstileLink\" data-tn-element=\"jobTitle\" href=\"/rc/clk?jk=5f5d9a6274ae9260&amp;fccid=8ce3cf8e1e3ddd14&amp;vjs=3\" id=\"jl_5f5d9a6274ae9260\" onclick=\"setRefineByCookie([]); return rclk(this,jobmap[5],true,0);\" onmousedown=\"return rclk(this,jobmap[5],0);\" rel=\"noopener nofollow\" target=\"_blank\" title=\"Data Analyst Supporting the FBI\">\n",
       " <b>Data</b> <b>Analyst</b> Supporting the FBI</a>\n",
       " </h2>\n",
       " <div class=\"sjcl\">\n",
       " <div>\n",
       " <span class=\"company\">\n",
       " <a class=\"turnstileLink\" data-tn-element=\"companyName\" href=\"/cmp/Forfeiture-Support-Associates,-LLC\" onmousedown=\"this.href = appendParamsOnce(this.href, 'from=SERP&amp;campaignid=serp-linkcompanyname&amp;fromjk=5f5d9a6274ae9260&amp;jcid=de638b0699085046')\" rel=\"noopener\" target=\"_blank\">\n",
       " Forfeiture Support Associates</a></span>\n",
       " <span class=\"ratingsDisplay\">\n",
       " <a aria-label=\"Company rating 3.7 out of 5 stars\" class=\"ratingNumber\" data-tn-variant=\"cmplinktst2\" href=\"/cmp/Forfeiture-Support-Associates,-LLC/reviews\" onmousedown=\"this.href = appendParamsOnce(this.href, '?campaignid=cmplinktst2&amp;from=SERP&amp;jt=Data+Analyst+Supporting+the+FBI&amp;fromjk=5f5d9a6274ae9260&amp;jcid=de638b0699085046');\" rel=\"noopener\" target=\"_blank\" title=\"Forfeiture Support Associates reviews\"></a>\n",
       " <span class=\"ratingsContent\">\n",
       " 3.7<svg class=\"starIcon\" height=\"12px\" role=\"img\" width=\"12px\">\n",
       " <g>\n",
       " <path d=\"M 12.00,4.34 C 12.00,4.34 7.69,3.97 7.69,3.97 7.69,3.97 6.00,0.00 6.00,0.00 6.00,0.00 4.31,3.98 4.31,3.98 4.31,3.98 0.00,4.34 0.00,4.34 0.00,4.34 3.28,7.18 3.28,7.18 3.28,7.18 2.29,11.40 2.29,11.40 2.29,11.40 6.00,9.16 6.00,9.16 6.00,9.16 9.71,11.40 9.71,11.40 9.71,11.40 8.73,7.18 8.73,7.18 8.73,7.18 12.00,4.34 12.00,4.34 Z\" style=\"fill: #FFB103\"></path>\n",
       " </g>\n",
       " </svg>\n",
       " </span>\n",
       " </span></div></div></div>,\n",
       " <div class=\"jobsearch-SerpJobCard unifiedRow row result\" data-jk=\"052587b0d31dc308\" data-tn-component=\"organicJob\" id=\"p_052587b0d31dc308\">\n",
       " <h2 class=\"title\">\n",
       " <a class=\"jobtitle turnstileLink\" data-tn-element=\"jobTitle\" href=\"/company/Weboptimix/jobs/Entry-Level-Business-Analyst-052587b0d31dc308?fccid=ef0710f9d5ff9321&amp;vjs=3\" id=\"jl_052587b0d31dc308\" onclick=\"setRefineByCookie([]); return rclk(this,jobmap[6],true,1);\" onmousedown=\"return rclk(this,jobmap[6],1);\" rel=\"noopener nofollow\" target=\"_blank\" title=\"Entry Level Business Analyst\">\n",
       " Entry Level Business <b>Analyst</b></a>\n",
       " <span class=\"new\">new</span></h2>\n",
       " <div class=\"sjcl\">\n",
       " <div>\n",
       " <span class=\"company\">\n",
       " Weboptimix</span>\n",
       " </div>\n",
       " <div class=\"recJobLoc\" data-rc-loc=\"Chicago, IL\" id=\"recJobLoc_052587b0d31dc308\" style=\"display: none\"></div>\n",
       " <span class=\"location accessible-contrast-color-location\">Chicago, IL</span>\n",
       " </div>\n",
       " <div class=\"salarySnippet holisticSalary\">\n",
       " <span class=\"salary no-wrap\">\n",
       " <span class=\"salaryText\">\n",
       " $30 - $33 an hour</span>\n",
       " </span>\n",
       " </div>\n",
       " <table class=\"jobCardShelfContainer\" role=\"presentation\"><tr class=\"jobCardShelf\"><td class=\"jobCardShelfItem indeedApply\"><span class=\"jobCardShelfIcon\"><svg fill=\"none\" height=\"16\" viewbox=\"0 0 20 20\" width=\"16\"><rect fill=\"#FF5A1F\" height=\"20\" rx=\"10\" width=\"20\"></rect><path clip-rule=\"evenodd\" d=\"M15.3125 4.0625L10.8125 15.3125L7.99999 11.375L15.3125 4.0625ZM7.604 12.7576L6.875 15.3125L8.567 14.1054L7.604 12.7576ZM7.20463 10.5796L12.419 5.36525L4.0625 9.125L6.9875 10.7968L7.20463 10.5796Z\" fill=\"white\" fill-rule=\"evenodd\"></path></svg></span><span class=\"iaLabel iaIconActive\">Easily apply</span></td></tr></table><div class=\"summary\">\n",
       " <ul style=\"list-style-type:circle;margin-top: 0px;margin-bottom: 0px;padding-left:20px;\">\n",
       " <li style=\"margin-bottom:0px;\">Analyze business processes, functions, and procedures to determine most effective business systems software organisation.</li>\n",
       " <li>Job Types: Full-time, Contract.</li>\n",
       " </ul></div>\n",
       " <div class=\"jobsearch-SerpJobCard-footer\">\n",
       " <div class=\"jobsearch-SerpJobCard-footerActions\">\n",
       " <div class=\"result-link-bar-container\">\n",
       " <div class=\"result-link-bar\"><span class=\"date\">1 day ago</span><div class=\"tt_set\" id=\"tt_set_6\"><div class=\"job-reaction\"><button aria-expanded=\"false\" aria-haspopup=\"true\" aria-label=\"save or dislike\" class=\"job-reaction-kebab\" data-ol-has-click-handler=\"\" onclick=\"toggleKebabMenu('052587b0d31dc308', false, event); return false;\" tabindex=\"0\"></button><span class=\"job-reaction-kebab-menu\"><button class=\"job-reaction-kebab-item job-reaction-save\" data-ol-has-click-handler=\"\" onclick=\"changeJobState('052587b0d31dc308', 'save', 'linkbar', false, '');return false;\"><svg focusable=\"false\" height=\"16\" viewbox=\"0 0 24 24\" width=\"16\"><g><path d=\"M16.5,3A6,6,0,0,0,12,5.09,6,6,0,0,0,7.5,3,5.45,5.45,0,0,0,2,8.5C2,12.28,5.4,15.36,10.55,20L12,21.35,13.45,20C18.6,15.36,22,12.28,22,8.5A5.45,5.45,0,0,0,16.5,3ZM12.1,18.55l-0.1.1-0.1-.1C7.14,14.24,4,11.39,4,8.5A3.42,3.42,0,0,1,7.5,5a3.91,3.91,0,0,1,3.57,2.36h1.87A3.88,3.88,0,0,1,16.5,5,3.42,3.42,0,0,1,20,8.5C20,11.39,16.86,14.24,12.1,18.55Z\" fill=\"#2d2d2d\"></path></g></svg><span class=\"job-reaction-kebab-item-text\">Save job</span></button><button class=\"job-reaction-kebab-item job-reaction-dislike\" data-ol-has-click-handler=\"\" onclick=\"dislikeJob(false, false, '052587b0d31dc308', 'unsave', 'linkbar', false, '');\"><span class=\"job-reaction-dislike-icon\"></span><span class=\"job-reaction-kebab-item-text\">Not interested</span></button><button class=\"job-reaction-kebab-item job-reaction-report\" onclick=\"reportJob('052587b0d31dc308');\"><span class=\"job-reaction-report-icon\"></span><span class=\"job-reaction-kebab-item-text\">Report Job</span></button></span></div><span class=\"result-link-bar-separator\">·</span><a class=\"sl resultLink save-job-link\" href=\"#\" id=\"sj_052587b0d31dc308\" onclick=\"changeJobState('052587b0d31dc308', 'save', 'linkbar', false, ''); return false;\" title=\"Save this job to my.indeed\">Save job</a><span class=\"result-link-bar-separator\">·</span><button aria-expanded=\"false\" class=\"sl resultLink more-link\" id=\"tog_6\" onclick=\"toggleMoreLinks('052587b0d31dc308', '6'); return false;\">More...</button></div><script>if (!window['result_052587b0d31dc308']) {window['result_052587b0d31dc308'] = {};}window['result_052587b0d31dc308']['showSource'] = false; window['result_052587b0d31dc308']['source'] = \"Indeed\"; window['result_052587b0d31dc308']['loggedIn'] = false; window['result_052587b0d31dc308']['showMyJobsLinks'] = false;window['result_052587b0d31dc308']['undoAction'] = \"unsave\";window['result_052587b0d31dc308']['relativeJobAge'] = \"1 day ago\";window['result_052587b0d31dc308']['jobKey'] = \"052587b0d31dc308\"; window['result_052587b0d31dc308']['myIndeedAvailable'] = true; window['result_052587b0d31dc308']['showMoreActionsLink'] = window['result_052587b0d31dc308']['showMoreActionsLink'] || true; window['result_052587b0d31dc308']['resultNumber'] = 6; window['result_052587b0d31dc308']['jobStateChangedToSaved'] = false; window['result_052587b0d31dc308']['searchState'] = \"q=data analyst&amp;l=chicago+il\"; window['result_052587b0d31dc308']['basicPermaLink'] = \"https://www.indeed.com\"; window['result_052587b0d31dc308']['saveJobFailed'] = false; window['result_052587b0d31dc308']['removeJobFailed'] = false; window['result_052587b0d31dc308']['requestPending'] = false; window['result_052587b0d31dc308']['currentPage'] = \"serp\"; window['result_052587b0d31dc308']['sponsored'] = false;window['result_052587b0d31dc308']['reportJobButtonEnabled'] = false; window['result_052587b0d31dc308']['showMyJobsHired'] = false; window['result_052587b0d31dc308']['showSaveForSponsored'] = false; window['result_052587b0d31dc308']['showJobAge'] = true; window['result_052587b0d31dc308']['showHolisticCard'] = true; window['result_052587b0d31dc308']['showDislike'] = true; window['result_052587b0d31dc308']['showKebab'] = true; window['result_052587b0d31dc308']['showReport'] = true;</script></div></div>\n",
       " </div>\n",
       " </div>\n",
       " <div class=\"tab-container\">\n",
       " <div class=\"more-links-container result-tab\" id=\"tt_display_2\" style=\"display:none;\"><div class=\"more_actions\" id=\"more_2\"><ul><li><span class=\"mat\">View all <a href=\"/q-Weboptimix-l-Chicago,-IL-jobs.html\">Weboptimix jobs in Chicago, IL</a> - <a href=\"/l-Chicago,-IL-jobs.html\">Chicago jobs</a></span></li><li><span class=\"mat\">Salary Search: <a href=\"/salaries/entry-level-analyst-Salaries,-Chicago-IL\" onmousedown=\"this.href = appendParamsOnce(this.href, '?campaignid=serp-more&amp;fromjk=052587b0d31dc308&amp;from=serp-more');\">Entry Level Analyst salaries in Chicago, IL</a></span></li></ul></div><a class=\"close-link closeLink\" href=\"#\" onclick=\"toggleMoreLinks('052587b0d31dc308'); return false;\" title=\"Close\"></a></div><div class=\"dya-container result-tab\"></div>\n",
       " <div class=\"tellafriend-container result-tab email_job_content\"></div>\n",
       " <div class=\"sign-in-container result-tab\"></div>\n",
       " </div>\n",
       " </div>,\n",
       " <div class=\"jobsearch-SerpJobCard unifiedRow row result\" data-jk=\"6781970282a21ba0\" data-tn-component=\"organicJob\" id=\"p_6781970282a21ba0\">\n",
       " <h2 class=\"title\">\n",
       " <a class=\"jobtitle turnstileLink\" data-tn-element=\"jobTitle\" href=\"/company/CBit-Technologies/jobs/Data-Analyst-6781970282a21ba0?fccid=101436b50b22ad6a&amp;vjs=3\" id=\"jl_6781970282a21ba0\" onclick=\"setRefineByCookie([]); return rclk(this,jobmap[7],true,1);\" onmousedown=\"return rclk(this,jobmap[7],1);\" rel=\"noopener nofollow\" target=\"_blank\" title=\"Data Analyst\">\n",
       " <b>Data</b> <b>Analyst</b></a>\n",
       " </h2>\n",
       " <div class=\"sjcl\">\n",
       " <div>\n",
       " <span class=\"company\">\n",
       " Global Pharma Tek</span>\n",
       " </div>\n",
       " <div class=\"recJobLoc\" data-rc-loc=\"Chicago, IL\" id=\"recJobLoc_6781970282a21ba0\" style=\"display: none\"></div>\n",
       " <span class=\"location accessible-contrast-color-location\">Chicago, IL</span>\n",
       " <span class=\"remote-bullet\">•</span>\n",
       " <span class=\"remote\">Remote</span>\n",
       " </div>\n",
       " <div class=\"salarySnippet holisticSalary\">\n",
       " <span class=\"salary no-wrap\">\n",
       " <span class=\"salaryText\">\n",
       " From $50 an hour</span>\n",
       " </span>\n",
       " </div>\n",
       " <table class=\"jobCardShelfContainer\" role=\"presentation\"><tr class=\"jobCardShelf\"><td class=\"jobCardShelfItem indeedApply\"><span class=\"jobCardShelfIcon\"><svg fill=\"none\" height=\"16\" viewbox=\"0 0 20 20\" width=\"16\"><rect fill=\"#FF5A1F\" height=\"20\" rx=\"10\" width=\"20\"></rect><path clip-rule=\"evenodd\" d=\"M15.3125 4.0625L10.8125 15.3125L7.99999 11.375L15.3125 4.0625ZM7.604 12.7576L6.875 15.3125L8.567 14.1054L7.604 12.7576ZM7.20463 10.5796L12.419 5.36525L4.0625 9.125L6.9875 10.7968L7.20463 10.5796Z\" fill=\"white\" fill-rule=\"evenodd\"></path></svg></span><span class=\"iaLabel iaIconActive\">Easily apply</span></td><td class=\"jobCardShelfItem urgentlyHiring\"><span class=\"jobCardShelfIcon\"><svg fill=\"none\" height=\"16\" viewbox=\"0 0 16 16\" width=\"16\"><rect fill=\"#DB183F\" height=\"16\" rx=\"8\" width=\"16\"></rect><g clip-path=\"url(#clip0)\"><path clip-rule=\"evenodd\" d=\"M7.99515 3.20001C5.34555 3.20001 3.19995 5.35041 3.19995 8.00001C3.19995 10.6496 5.34555 12.8 7.99515 12.8C10.6496 12.8 12.8 10.6496 12.8 8.00001C12.8 5.35041 10.6496 3.20001 7.99515 3.20001ZM7.99995 11.84C5.87835 11.84 4.15995 10.1216 4.15995 8.00001C4.15995 5.87841 5.87835 4.16001 7.99995 4.16001C10.1216 4.16001 11.84 5.87841 11.84 8.00001C11.84 10.1216 10.1216 11.84 7.99995 11.84Z\" fill=\"white\" fill-rule=\"evenodd\"></path><path clip-rule=\"evenodd\" d=\"M8.24002 5.60001H7.52002V8.48001L10.04 9.99201L10.4 9.40161L8.24002 8.12001V5.60001Z\" fill=\"white\" fill-rule=\"evenodd\"></path></g><defs><clippath><rect fill=\"white\" height=\"9.6\" transform=\"translate(3.19995 3.20001)\" width=\"9.6\"></rect></clippath></defs></svg></span>Urgently hiring</td></tr></table><div class=\"summary\">\n",
       " <ul style=\"list-style-type:circle;margin-top: 0px;margin-bottom: 0px;padding-left:20px;\">\n",
       " <li style=\"margin-bottom:0px;\">Build SQL queries and extract <b>data</b> or build reports/visualization.</li>\n",
       " <li>Experience with EPIC <b>data</b> warehouse (Caboodle) or Clarity databases would be very helpful.</li>\n",
       " </ul></div>\n",
       " <div class=\"jobsearch-SerpJobCard-footer\">\n",
       " <div class=\"jobsearch-SerpJobCard-footerActions\">\n",
       " <div class=\"result-link-bar-container\">\n",
       " <div class=\"result-link-bar\"><span class=\"date\">25 days ago</span><div class=\"tt_set\" id=\"tt_set_7\"><div class=\"job-reaction\"><button aria-expanded=\"false\" aria-haspopup=\"true\" aria-label=\"save or dislike\" class=\"job-reaction-kebab\" data-ol-has-click-handler=\"\" onclick=\"toggleKebabMenu('6781970282a21ba0', false, event); return false;\" tabindex=\"0\"></button><span class=\"job-reaction-kebab-menu\"><button class=\"job-reaction-kebab-item job-reaction-save\" data-ol-has-click-handler=\"\" onclick=\"changeJobState('6781970282a21ba0', 'save', 'linkbar', false, '');return false;\"><svg focusable=\"false\" height=\"16\" viewbox=\"0 0 24 24\" width=\"16\"><g><path d=\"M16.5,3A6,6,0,0,0,12,5.09,6,6,0,0,0,7.5,3,5.45,5.45,0,0,0,2,8.5C2,12.28,5.4,15.36,10.55,20L12,21.35,13.45,20C18.6,15.36,22,12.28,22,8.5A5.45,5.45,0,0,0,16.5,3ZM12.1,18.55l-0.1.1-0.1-.1C7.14,14.24,4,11.39,4,8.5A3.42,3.42,0,0,1,7.5,5a3.91,3.91,0,0,1,3.57,2.36h1.87A3.88,3.88,0,0,1,16.5,5,3.42,3.42,0,0,1,20,8.5C20,11.39,16.86,14.24,12.1,18.55Z\" fill=\"#2d2d2d\"></path></g></svg><span class=\"job-reaction-kebab-item-text\">Save job</span></button><button class=\"job-reaction-kebab-item job-reaction-dislike\" data-ol-has-click-handler=\"\" onclick=\"dislikeJob(false, false, '6781970282a21ba0', 'unsave', 'linkbar', false, '');\"><span class=\"job-reaction-dislike-icon\"></span><span class=\"job-reaction-kebab-item-text\">Not interested</span></button><button class=\"job-reaction-kebab-item job-reaction-report\" onclick=\"reportJob('6781970282a21ba0');\"><span class=\"job-reaction-report-icon\"></span><span class=\"job-reaction-kebab-item-text\">Report Job</span></button></span></div><span class=\"result-link-bar-separator\">·</span><a class=\"sl resultLink save-job-link\" href=\"#\" id=\"sj_6781970282a21ba0\" onclick=\"changeJobState('6781970282a21ba0', 'save', 'linkbar', false, ''); return false;\" title=\"Save this job to my.indeed\">Save job</a><span class=\"result-link-bar-separator\">·</span><button aria-expanded=\"false\" class=\"sl resultLink more-link\" id=\"tog_7\" onclick=\"toggleMoreLinks('6781970282a21ba0', '7'); return false;\">More...</button></div><script>if (!window['result_6781970282a21ba0']) {window['result_6781970282a21ba0'] = {};}window['result_6781970282a21ba0']['showSource'] = false; window['result_6781970282a21ba0']['source'] = \"Indeed\"; window['result_6781970282a21ba0']['loggedIn'] = false; window['result_6781970282a21ba0']['showMyJobsLinks'] = false;window['result_6781970282a21ba0']['undoAction'] = \"unsave\";window['result_6781970282a21ba0']['relativeJobAge'] = \"25 days ago\";window['result_6781970282a21ba0']['jobKey'] = \"6781970282a21ba0\"; window['result_6781970282a21ba0']['myIndeedAvailable'] = true; window['result_6781970282a21ba0']['showMoreActionsLink'] = window['result_6781970282a21ba0']['showMoreActionsLink'] || true; window['result_6781970282a21ba0']['resultNumber'] = 7; window['result_6781970282a21ba0']['jobStateChangedToSaved'] = false; window['result_6781970282a21ba0']['searchState'] = \"q=data analyst&amp;l=chicago+il\"; window['result_6781970282a21ba0']['basicPermaLink'] = \"https://www.indeed.com\"; window['result_6781970282a21ba0']['saveJobFailed'] = false; window['result_6781970282a21ba0']['removeJobFailed'] = false; window['result_6781970282a21ba0']['requestPending'] = false; window['result_6781970282a21ba0']['currentPage'] = \"serp\"; window['result_6781970282a21ba0']['sponsored'] = false;window['result_6781970282a21ba0']['reportJobButtonEnabled'] = false; window['result_6781970282a21ba0']['showMyJobsHired'] = false; window['result_6781970282a21ba0']['showSaveForSponsored'] = false; window['result_6781970282a21ba0']['showJobAge'] = true; window['result_6781970282a21ba0']['showHolisticCard'] = true; window['result_6781970282a21ba0']['showDislike'] = true; window['result_6781970282a21ba0']['showKebab'] = true; window['result_6781970282a21ba0']['showReport'] = true;</script></div></div>\n",
       " </div>\n",
       " </div>\n",
       " <div class=\"tab-container\">\n",
       " <div class=\"more-links-container result-tab\" id=\"tt_display_3\" style=\"display:none;\"><div class=\"more_actions\" id=\"more_3\"><ul><li><span class=\"mat\">View all <a href=\"/q-Global-Pharma-Tek-l-Chicago,-IL-jobs.html\">Global Pharma Tek jobs in Chicago, IL</a> - <a href=\"/l-Chicago,-IL-jobs.html\">Chicago jobs</a></span></li><li><span class=\"mat\">Salary Search: <a href=\"/salaries/data-analyst-Salaries,-Chicago-IL\" onmousedown=\"this.href = appendParamsOnce(this.href, '?campaignid=serp-more&amp;fromjk=6781970282a21ba0&amp;from=serp-more');\">Data Analyst salaries in Chicago, IL</a></span></li><li><span class=\"mat\">Explore career as Data Analyst: <a href=\"/career/data-analyst\" onmousedown=\"this.href = appendParamsOnce(this.href, 'from=jasx');\">overview</a>, <a href=\"/career/data-analyst/career-advice\" onmousedown=\"this.href = appendParamsOnce(this.href, 'from=jasx');\">career advice</a>, <a href=\"/career/data-analyst/faq\" onmousedown=\"this.href = appendParamsOnce(this.href, 'from=jasx');\">FAQs</a></span></li></ul></div><a class=\"close-link closeLink\" href=\"#\" onclick=\"toggleMoreLinks('6781970282a21ba0'); return false;\" title=\"Close\"></a></div><div class=\"dya-container result-tab\"></div>\n",
       " <div class=\"tellafriend-container result-tab email_job_content\"></div>\n",
       " <div class=\"sign-in-container result-tab\"></div>\n",
       " </div>\n",
       " </div>,\n",
       " <div class=\"jobsearch-SerpJobCard unifiedRow row result\" data-jk=\"bd65ad28a5825fb9\" data-tn-component=\"organicJob\" id=\"p_bd65ad28a5825fb9\">\n",
       " <h2 class=\"title\">\n",
       " <a class=\"jobtitle turnstileLink\" data-tn-element=\"jobTitle\" href=\"/company/Darwin-AI/jobs/Digital-Marketing-Data-Creative-Analyst-bd65ad28a5825fb9?fccid=c7451e3d4a4745af&amp;vjs=3\" id=\"jl_bd65ad28a5825fb9\" onclick=\"setRefineByCookie([]); return rclk(this,jobmap[8],true,1);\" onmousedown=\"return rclk(this,jobmap[8],1);\" rel=\"noopener nofollow\" target=\"_blank\" title=\"Digital Marketing Data + Creative Analyst\">\n",
       " Digital Marketing <b>Data</b> + Creative <b>Analyst</b></a>\n",
       " </h2>\n",
       " <div class=\"sjcl\">\n",
       " <div>\n",
       " <span class=\"company\">\n",
       " Darwin AI</span>\n",
       " </div>\n",
       " <div class=\"recJobLoc\" data-rc-loc=\"Chicago, IL\" id=\"recJobLoc_bd65ad28a5825fb9\" style=\"display: none\"></div>\n",
       " <span class=\"location accessible-contrast-color-location\">Chicago, IL 60606 <span style=\"font-size: smaller\">(The Loop area)</span></span>\n",
       " <span class=\"remote-bullet\">•</span>\n",
       " <span class=\"remote\">Temporarily remote</span>\n",
       " </div>\n",
       " <div class=\"salarySnippet holisticSalary\">\n",
       " <span class=\"salary no-wrap\">\n",
       " <span class=\"salaryText\">\n",
       " $45,000 - $60,000 a year</span>\n",
       " </span>\n",
       " </div>\n",
       " <table class=\"jobCardShelfContainer\" role=\"presentation\"><tr class=\"jobCardShelf\"><td class=\"jobCardShelfItem indeedApply\"><span class=\"jobCardShelfIcon\"><svg fill=\"none\" height=\"16\" viewbox=\"0 0 20 20\" width=\"16\"><rect fill=\"#FF5A1F\" height=\"20\" rx=\"10\" width=\"20\"></rect><path clip-rule=\"evenodd\" d=\"M15.3125 4.0625L10.8125 15.3125L7.99999 11.375L15.3125 4.0625ZM7.604 12.7576L6.875 15.3125L8.567 14.1054L7.604 12.7576ZM7.20463 10.5796L12.419 5.36525L4.0625 9.125L6.9875 10.7968L7.20463 10.5796Z\" fill=\"white\" fill-rule=\"evenodd\"></path></svg></span><span class=\"iaLabel iaIconActive\">Easily apply</span></td></tr></table><div class=\"summary\">\n",
       " <ul style=\"list-style-type:circle;margin-top: 0px;margin-bottom: 0px;padding-left:20px;\">\n",
       " <li style=\"margin-bottom:0px;\">You must take both the <b>data</b> analysis and attention to detail assessments to be considered.*.</li>\n",
       " <li>Comfort working independently to analyze <b>data</b>, identify trends, and…</li>\n",
       " </ul></div>\n",
       " <div class=\"jobsearch-SerpJobCard-footer\">\n",
       " <div class=\"jobsearch-SerpJobCard-footerActions\">\n",
       " <div class=\"result-link-bar-container\">\n",
       " <div class=\"result-link-bar\"><span class=\"date\">15 days ago</span><div class=\"tt_set\" id=\"tt_set_8\"><div class=\"job-reaction\"><button aria-expanded=\"false\" aria-haspopup=\"true\" aria-label=\"save or dislike\" class=\"job-reaction-kebab\" data-ol-has-click-handler=\"\" onclick=\"toggleKebabMenu('bd65ad28a5825fb9', false, event); return false;\" tabindex=\"0\"></button><span class=\"job-reaction-kebab-menu\"><button class=\"job-reaction-kebab-item job-reaction-save\" data-ol-has-click-handler=\"\" onclick=\"changeJobState('bd65ad28a5825fb9', 'save', 'linkbar', false, '');return false;\"><svg focusable=\"false\" height=\"16\" viewbox=\"0 0 24 24\" width=\"16\"><g><path d=\"M16.5,3A6,6,0,0,0,12,5.09,6,6,0,0,0,7.5,3,5.45,5.45,0,0,0,2,8.5C2,12.28,5.4,15.36,10.55,20L12,21.35,13.45,20C18.6,15.36,22,12.28,22,8.5A5.45,5.45,0,0,0,16.5,3ZM12.1,18.55l-0.1.1-0.1-.1C7.14,14.24,4,11.39,4,8.5A3.42,3.42,0,0,1,7.5,5a3.91,3.91,0,0,1,3.57,2.36h1.87A3.88,3.88,0,0,1,16.5,5,3.42,3.42,0,0,1,20,8.5C20,11.39,16.86,14.24,12.1,18.55Z\" fill=\"#2d2d2d\"></path></g></svg><span class=\"job-reaction-kebab-item-text\">Save job</span></button><button class=\"job-reaction-kebab-item job-reaction-dislike\" data-ol-has-click-handler=\"\" onclick=\"dislikeJob(false, false, 'bd65ad28a5825fb9', 'unsave', 'linkbar', false, '');\"><span class=\"job-reaction-dislike-icon\"></span><span class=\"job-reaction-kebab-item-text\">Not interested</span></button><button class=\"job-reaction-kebab-item job-reaction-report\" onclick=\"reportJob('bd65ad28a5825fb9');\"><span class=\"job-reaction-report-icon\"></span><span class=\"job-reaction-kebab-item-text\">Report Job</span></button></span></div><span class=\"result-link-bar-separator\">·</span><a class=\"sl resultLink save-job-link\" href=\"#\" id=\"sj_bd65ad28a5825fb9\" onclick=\"changeJobState('bd65ad28a5825fb9', 'save', 'linkbar', false, ''); return false;\" title=\"Save this job to my.indeed\">Save job</a><span class=\"result-link-bar-separator\">·</span><button aria-expanded=\"false\" class=\"sl resultLink more-link\" id=\"tog_8\" onclick=\"toggleMoreLinks('bd65ad28a5825fb9', '8'); return false;\">More...</button></div><script>if (!window['result_bd65ad28a5825fb9']) {window['result_bd65ad28a5825fb9'] = {};}window['result_bd65ad28a5825fb9']['showSource'] = false; window['result_bd65ad28a5825fb9']['source'] = \"Indeed\"; window['result_bd65ad28a5825fb9']['loggedIn'] = false; window['result_bd65ad28a5825fb9']['showMyJobsLinks'] = false;window['result_bd65ad28a5825fb9']['undoAction'] = \"unsave\";window['result_bd65ad28a5825fb9']['relativeJobAge'] = \"15 days ago\";window['result_bd65ad28a5825fb9']['jobKey'] = \"bd65ad28a5825fb9\"; window['result_bd65ad28a5825fb9']['myIndeedAvailable'] = true; window['result_bd65ad28a5825fb9']['showMoreActionsLink'] = window['result_bd65ad28a5825fb9']['showMoreActionsLink'] || true; window['result_bd65ad28a5825fb9']['resultNumber'] = 8; window['result_bd65ad28a5825fb9']['jobStateChangedToSaved'] = false; window['result_bd65ad28a5825fb9']['searchState'] = \"q=data analyst&amp;l=chicago+il\"; window['result_bd65ad28a5825fb9']['basicPermaLink'] = \"https://www.indeed.com\"; window['result_bd65ad28a5825fb9']['saveJobFailed'] = false; window['result_bd65ad28a5825fb9']['removeJobFailed'] = false; window['result_bd65ad28a5825fb9']['requestPending'] = false; window['result_bd65ad28a5825fb9']['currentPage'] = \"serp\"; window['result_bd65ad28a5825fb9']['sponsored'] = false;window['result_bd65ad28a5825fb9']['reportJobButtonEnabled'] = false; window['result_bd65ad28a5825fb9']['showMyJobsHired'] = false; window['result_bd65ad28a5825fb9']['showSaveForSponsored'] = false; window['result_bd65ad28a5825fb9']['showJobAge'] = true; window['result_bd65ad28a5825fb9']['showHolisticCard'] = true; window['result_bd65ad28a5825fb9']['showDislike'] = true; window['result_bd65ad28a5825fb9']['showKebab'] = true; window['result_bd65ad28a5825fb9']['showReport'] = true;</script></div></div>\n",
       " </div>\n",
       " </div>\n",
       " <div class=\"tab-container\">\n",
       " <div class=\"more-links-container result-tab\" id=\"tt_display_4\" style=\"display:none;\"><div class=\"more_actions\" id=\"more_4\"><ul><li><span class=\"mat\">View all <a href=\"/q-Darwin-Ai-l-Chicago,-IL-jobs.html\">Darwin AI jobs in Chicago, IL</a> - <a href=\"/l-Chicago,-IL-jobs.html\">Chicago jobs</a></span></li><li><span class=\"mat\">Salary Search: <a href=\"/salaries/digital-marketer-Salaries,-Chicago-IL\" onmousedown=\"this.href = appendParamsOnce(this.href, '?campaignid=serp-more&amp;fromjk=bd65ad28a5825fb9&amp;from=serp-more');\">Digital Marketer salaries in Chicago, IL</a></span></li><li><span class=\"mat\">Learn more about working at <a href=\"/cmp/Darwin-Ai\" onmousedown=\"this.href = appendParamsOnce(this.href, '?fromjk=bd65ad28a5825fb9&amp;from=serp-more&amp;campaignid=serp-more&amp;jcid=256bfd0e9138988a');\">Darwin AI</a></span></li></ul></div><a class=\"close-link closeLink\" href=\"#\" onclick=\"toggleMoreLinks('bd65ad28a5825fb9'); return false;\" title=\"Close\"></a></div><div class=\"dya-container result-tab\"></div>\n",
       " <div class=\"tellafriend-container result-tab email_job_content\"></div>\n",
       " <div class=\"sign-in-container result-tab\"></div>\n",
       " </div>\n",
       " </div>,\n",
       " <div class=\"jobsearch-SerpJobCard unifiedRow row result\" data-jk=\"3c46a9a3b0196e06\" data-tn-component=\"organicJob\" id=\"p_3c46a9a3b0196e06\">\n",
       " <h2 class=\"title\">\n",
       " <a class=\"jobtitle turnstileLink\" data-tn-element=\"jobTitle\" href=\"/company/Titan-Technologies/jobs/Entry-Level-Business-Data-Analyst-3c46a9a3b0196e06?fccid=bb81fdc8b42db638&amp;vjs=3\" id=\"jl_3c46a9a3b0196e06\" onclick=\"setRefineByCookie([]); return rclk(this,jobmap[9],true,1);\" onmousedown=\"return rclk(this,jobmap[9],1);\" rel=\"noopener nofollow\" target=\"_blank\" title=\"Entry Level Business Data Analyst\">\n",
       " Entry Level Business <b>Data</b> <b>Analyst</b></a>\n",
       " </h2>\n",
       " <div class=\"sjcl\">\n",
       " <div>\n",
       " <span class=\"company\">\n",
       " <a class=\"turnstileLink\" data-tn-element=\"companyName\" href=\"/cmp/Titan-Technologies\" onmousedown=\"this.href = appendParamsOnce(this.href, 'from=SERP&amp;campaignid=serp-linkcompanyname&amp;fromjk=3c46a9a3b0196e06&amp;jcid=bb81fdc8b42db638')\" rel=\"noopener\" target=\"_blank\">\n",
       " Titan Technologies</a></span>\n",
       " <span class=\"ratingsDisplay\">\n",
       " <a aria-label=\"Company rating 3.2 out of 5 stars\" class=\"ratingNumber\" data-tn-variant=\"cmplinktst2\" href=\"/cmp/Titan-Technologies/reviews\" onmousedown=\"this.href = appendParamsOnce(this.href, '?campaignid=cmplinktst2&amp;from=SERP&amp;jt=Entry+Level+Business+Data+Analyst&amp;fromjk=3c46a9a3b0196e06&amp;jcid=bb81fdc8b42db638');\" rel=\"noopener\" target=\"_blank\" title=\"Titan Technologies reviews\"></a>\n",
       " <span class=\"ratingsContent\">\n",
       " 3.2<svg class=\"starIcon\" height=\"12px\" role=\"img\" width=\"12px\">\n",
       " <g>\n",
       " <path d=\"M 12.00,4.34 C 12.00,4.34 7.69,3.97 7.69,3.97 7.69,3.97 6.00,0.00 6.00,0.00 6.00,0.00 4.31,3.98 4.31,3.98 4.31,3.98 0.00,4.34 0.00,4.34 0.00,4.34 3.28,7.18 3.28,7.18 3.28,7.18 2.29,11.40 2.29,11.40 2.29,11.40 6.00,9.16 6.00,9.16 6.00,9.16 9.71,11.40 9.71,11.40 9.71,11.40 8.73,7.18 8.73,7.18 8.73,7.18 12.00,4.34 12.00,4.34 Z\" style=\"fill: #FFB103\"></path>\n",
       " </g>\n",
       " </svg>\n",
       " </span>\n",
       " </span></div></div></div>,\n",
       " <div class=\"jobsearch-SerpJobCard unifiedRow row result\" data-jk=\"fcd4ef4b13d048ca\" data-tn-component=\"organicJob\" id=\"p_fcd4ef4b13d048ca\">\n",
       " <h2 class=\"title\">\n",
       " <a class=\"jobtitle turnstileLink\" data-tn-element=\"jobTitle\" href=\"/rc/clk?jk=fcd4ef4b13d048ca&amp;fccid=76114925a4440eea&amp;vjs=3\" id=\"jl_fcd4ef4b13d048ca\" onclick=\"setRefineByCookie([]); return rclk(this,jobmap[10],true,0);\" onmousedown=\"return rclk(this,jobmap[10],0);\" rel=\"noopener nofollow\" target=\"_blank\" title=\"Data Analyst\">\n",
       " <b>Data</b> <b>Analyst</b></a>\n",
       " </h2>\n",
       " <div class=\"sjcl\">\n",
       " <div>\n",
       " <span class=\"company\">\n",
       " Jump Trading</span>\n",
       " </div>\n",
       " <div class=\"recJobLoc\" data-rc-loc=\"Chicago, IL\" id=\"recJobLoc_fcd4ef4b13d048ca\" style=\"display: none\"></div>\n",
       " <span class=\"location accessible-contrast-color-location\">Chicago, IL</span>\n",
       " </div>\n",
       " <table class=\"jobCardShelfContainer\" role=\"presentation\"><tr class=\"jobCardShelf\"><td class=\"jobCardShelfItem indeedApply\"><span class=\"jobCardShelfIcon\"><svg fill=\"none\" height=\"16\" viewbox=\"0 0 20 20\" width=\"16\"><rect fill=\"#FF5A1F\" height=\"20\" rx=\"10\" width=\"20\"></rect><path clip-rule=\"evenodd\" d=\"M15.3125 4.0625L10.8125 15.3125L7.99999 11.375L15.3125 4.0625ZM7.604 12.7576L6.875 15.3125L8.567 14.1054L7.604 12.7576ZM7.20463 10.5796L12.419 5.36525L4.0625 9.125L6.9875 10.7968L7.20463 10.5796Z\" fill=\"white\" fill-rule=\"evenodd\"></path></svg></span><span class=\"iaLabel iaIconActive\">Easily apply</span></td></tr></table><div class=\"summary\">\n",
       " <ul style=\"list-style-type:circle;margin-top: 0px;margin-bottom: 0px;padding-left:20px;\">\n",
       " <li style=\"margin-bottom:0px;\">Illustrate <b>data</b> ownership and attention to detail.</li>\n",
       " <li>Creating and maintaining critical <b>data</b> within our Reference <b>Data</b> suite including security master, corporate…</li>\n",
       " </ul></div>\n",
       " <div class=\"jobsearch-SerpJobCard-footer\">\n",
       " <div class=\"jobsearch-SerpJobCard-footerActions\">\n",
       " <div class=\"result-link-bar-container\">\n",
       " <div class=\"result-link-bar\"><span class=\"date\">10 days ago</span><div class=\"tt_set\" id=\"tt_set_10\"><div class=\"job-reaction\"><button aria-expanded=\"false\" aria-haspopup=\"true\" aria-label=\"save or dislike\" class=\"job-reaction-kebab\" data-ol-has-click-handler=\"\" onclick=\"toggleKebabMenu('fcd4ef4b13d048ca', false, event); return false;\" tabindex=\"0\"></button><span class=\"job-reaction-kebab-menu\"><button class=\"job-reaction-kebab-item job-reaction-save\" data-ol-has-click-handler=\"\" onclick=\"changeJobState('fcd4ef4b13d048ca', 'save', 'linkbar', false, '');return false;\"><svg focusable=\"false\" height=\"16\" viewbox=\"0 0 24 24\" width=\"16\"><g><path d=\"M16.5,3A6,6,0,0,0,12,5.09,6,6,0,0,0,7.5,3,5.45,5.45,0,0,0,2,8.5C2,12.28,5.4,15.36,10.55,20L12,21.35,13.45,20C18.6,15.36,22,12.28,22,8.5A5.45,5.45,0,0,0,16.5,3ZM12.1,18.55l-0.1.1-0.1-.1C7.14,14.24,4,11.39,4,8.5A3.42,3.42,0,0,1,7.5,5a3.91,3.91,0,0,1,3.57,2.36h1.87A3.88,3.88,0,0,1,16.5,5,3.42,3.42,0,0,1,20,8.5C20,11.39,16.86,14.24,12.1,18.55Z\" fill=\"#2d2d2d\"></path></g></svg><span class=\"job-reaction-kebab-item-text\">Save job</span></button><button class=\"job-reaction-kebab-item job-reaction-dislike\" data-ol-has-click-handler=\"\" onclick=\"dislikeJob(false, false, 'fcd4ef4b13d048ca', 'unsave', 'linkbar', false, '');\"><span class=\"job-reaction-dislike-icon\"></span><span class=\"job-reaction-kebab-item-text\">Not interested</span></button><button class=\"job-reaction-kebab-item job-reaction-report\" onclick=\"reportJob('fcd4ef4b13d048ca');\"><span class=\"job-reaction-report-icon\"></span><span class=\"job-reaction-kebab-item-text\">Report Job</span></button></span></div><span class=\"result-link-bar-separator\">·</span><a class=\"sl resultLink save-job-link\" href=\"#\" id=\"sj_fcd4ef4b13d048ca\" onclick=\"changeJobState('fcd4ef4b13d048ca', 'save', 'linkbar', false, ''); return false;\" title=\"Save this job to my.indeed\">Save job</a><span class=\"result-link-bar-separator\">·</span><button aria-expanded=\"false\" class=\"sl resultLink more-link\" id=\"tog_10\" onclick=\"toggleMoreLinks('fcd4ef4b13d048ca', '10'); return false;\">More...</button></div><script>if (!window['result_fcd4ef4b13d048ca']) {window['result_fcd4ef4b13d048ca'] = {};}window['result_fcd4ef4b13d048ca']['showSource'] = false; window['result_fcd4ef4b13d048ca']['source'] = \"Jump Trading\"; window['result_fcd4ef4b13d048ca']['loggedIn'] = false; window['result_fcd4ef4b13d048ca']['showMyJobsLinks'] = false;window['result_fcd4ef4b13d048ca']['undoAction'] = \"unsave\";window['result_fcd4ef4b13d048ca']['relativeJobAge'] = \"10 days ago\";window['result_fcd4ef4b13d048ca']['jobKey'] = \"fcd4ef4b13d048ca\"; window['result_fcd4ef4b13d048ca']['myIndeedAvailable'] = true; window['result_fcd4ef4b13d048ca']['showMoreActionsLink'] = window['result_fcd4ef4b13d048ca']['showMoreActionsLink'] || true; window['result_fcd4ef4b13d048ca']['resultNumber'] = 10; window['result_fcd4ef4b13d048ca']['jobStateChangedToSaved'] = false; window['result_fcd4ef4b13d048ca']['searchState'] = \"q=data analyst&amp;l=chicago+il\"; window['result_fcd4ef4b13d048ca']['basicPermaLink'] = \"https://www.indeed.com\"; window['result_fcd4ef4b13d048ca']['saveJobFailed'] = false; window['result_fcd4ef4b13d048ca']['removeJobFailed'] = false; window['result_fcd4ef4b13d048ca']['requestPending'] = false; window['result_fcd4ef4b13d048ca']['currentPage'] = \"serp\"; window['result_fcd4ef4b13d048ca']['sponsored'] = false;window['result_fcd4ef4b13d048ca']['reportJobButtonEnabled'] = false; window['result_fcd4ef4b13d048ca']['showMyJobsHired'] = false; window['result_fcd4ef4b13d048ca']['showSaveForSponsored'] = false; window['result_fcd4ef4b13d048ca']['showJobAge'] = true; window['result_fcd4ef4b13d048ca']['showHolisticCard'] = true; window['result_fcd4ef4b13d048ca']['showDislike'] = true; window['result_fcd4ef4b13d048ca']['showKebab'] = true; window['result_fcd4ef4b13d048ca']['showReport'] = true;</script></div></div>\n",
       " </div>\n",
       " </div>\n",
       " <div class=\"tab-container\">\n",
       " <div class=\"more-links-container result-tab\" id=\"tt_display_6\" style=\"display:none;\"><div class=\"more_actions\" id=\"more_6\"><ul><li><span class=\"mat\">View all <a href=\"/q-Jump-Trading-l-Chicago,-IL-jobs.html\">Jump Trading jobs in Chicago, IL</a> - <a href=\"/l-Chicago,-IL-jobs.html\">Chicago jobs</a></span></li><li><span class=\"mat\">Salary Search: <a href=\"/salaries/data-analyst-Salaries,-Chicago-IL\" onmousedown=\"this.href = appendParamsOnce(this.href, '?campaignid=serp-more&amp;fromjk=fcd4ef4b13d048ca&amp;from=serp-more');\">Data Analyst salaries in Chicago, IL</a></span></li><li><span class=\"mat\">Explore career as Data Analyst: <a href=\"/career/data-analyst\" onmousedown=\"this.href = appendParamsOnce(this.href, 'from=jasx');\">overview</a>, <a href=\"/career/data-analyst/career-advice\" onmousedown=\"this.href = appendParamsOnce(this.href, 'from=jasx');\">career advice</a>, <a href=\"/career/data-analyst/faq\" onmousedown=\"this.href = appendParamsOnce(this.href, 'from=jasx');\">FAQs</a></span></li></ul></div><a class=\"close-link closeLink\" href=\"#\" onclick=\"toggleMoreLinks('fcd4ef4b13d048ca'); return false;\" title=\"Close\"></a></div><div class=\"dya-container result-tab\"></div>\n",
       " <div class=\"tellafriend-container result-tab email_job_content\"></div>\n",
       " <div class=\"sign-in-container result-tab\"></div>\n",
       " </div>\n",
       " </div>,\n",
       " <div class=\"jobsearch-SerpJobCard unifiedRow row result\" data-jk=\"a844b155290494bc\" data-tn-component=\"organicJob\" id=\"p_a844b155290494bc\">\n",
       " <h2 class=\"title\">\n",
       " <a class=\"jobtitle turnstileLink\" data-tn-element=\"jobTitle\" href=\"/rc/clk?jk=a844b155290494bc&amp;fccid=5ee084757f8a188d&amp;vjs=3\" id=\"jl_a844b155290494bc\" onclick=\"setRefineByCookie([]); return rclk(this,jobmap[11],true,0);\" onmousedown=\"return rclk(this,jobmap[11],0);\" rel=\"noopener nofollow\" target=\"_blank\" title=\"Data Analyst, The Core\">\n",
       " <b>Data</b> <b>Analyst</b>, The Core</a>\n",
       " <span class=\"new\">new</span></h2>\n",
       " <div class=\"sjcl\">\n",
       " <div>\n",
       " <span class=\"company\">\n",
       " <a class=\"turnstileLink\" data-tn-element=\"companyName\" href=\"/cmp/Leo-Burnett\" onmousedown=\"this.href = appendParamsOnce(this.href, 'from=SERP&amp;campaignid=serp-linkcompanyname&amp;fromjk=a844b155290494bc&amp;jcid=5ee084757f8a188d')\" rel=\"noopener\" target=\"_blank\">\n",
       " Leo Burnett</a></span>\n",
       " <span class=\"ratingsDisplay\">\n",
       " <a aria-label=\"Company rating 4.1 out of 5 stars\" class=\"ratingNumber\" data-tn-variant=\"cmplinktst2\" href=\"/cmp/Leo-Burnett/reviews\" onmousedown=\"this.href = appendParamsOnce(this.href, '?campaignid=cmplinktst2&amp;from=SERP&amp;jt=Data+Analyst%2C+The+Core&amp;fromjk=a844b155290494bc&amp;jcid=5ee084757f8a188d');\" rel=\"noopener\" target=\"_blank\" title=\"Leo Burnett reviews\"></a>\n",
       " <span class=\"ratingsContent\">\n",
       " 4.1<svg class=\"starIcon\" height=\"12px\" role=\"img\" width=\"12px\">\n",
       " <g>\n",
       " <path d=\"M 12.00,4.34 C 12.00,4.34 7.69,3.97 7.69,3.97 7.69,3.97 6.00,0.00 6.00,0.00 6.00,0.00 4.31,3.98 4.31,3.98 4.31,3.98 0.00,4.34 0.00,4.34 0.00,4.34 3.28,7.18 3.28,7.18 3.28,7.18 2.29,11.40 2.29,11.40 2.29,11.40 6.00,9.16 6.00,9.16 6.00,9.16 9.71,11.40 9.71,11.40 9.71,11.40 8.73,7.18 8.73,7.18 8.73,7.18 12.00,4.34 12.00,4.34 Z\" style=\"fill: #FFB103\"></path>\n",
       " </g>\n",
       " </svg>\n",
       " </span>\n",
       " </span></div></div></div>,\n",
       " <div class=\"jobsearch-SerpJobCard unifiedRow row result\" data-jk=\"d0434fab50eedb29\" data-tn-component=\"organicJob\" id=\"p_d0434fab50eedb29\">\n",
       " <h2 class=\"title\">\n",
       " <a class=\"jobtitle turnstileLink\" data-tn-element=\"jobTitle\" href=\"/rc/clk?jk=d0434fab50eedb29&amp;fccid=978d9fd9799d55a8&amp;vjs=3\" id=\"jl_d0434fab50eedb29\" onclick=\"setRefineByCookie([]); return rclk(this,jobmap[12],true,0);\" onmousedown=\"return rclk(this,jobmap[12],0);\" rel=\"noopener nofollow\" target=\"_blank\" title=\"Data Analyst - University Graduate\">\n",
       " <b>Data</b> <b>Analyst</b> - University Graduate</a>\n",
       " </h2>\n",
       " <div class=\"sjcl\">\n",
       " <div>\n",
       " <span class=\"company\">\n",
       " <a class=\"turnstileLink\" data-tn-element=\"companyName\" href=\"/cmp/Paypal\" onmousedown=\"this.href = appendParamsOnce(this.href, 'from=SERP&amp;campaignid=serp-linkcompanyname&amp;fromjk=d0434fab50eedb29&amp;jcid=978d9fd9799d55a8')\" rel=\"noopener\" target=\"_blank\">\n",
       " PayPal</a></span>\n",
       " <span class=\"ratingsDisplay\">\n",
       " <a aria-label=\"Company rating 3.9 out of 5 stars\" class=\"ratingNumber\" data-tn-variant=\"cmplinktst2\" href=\"/cmp/Paypal/reviews\" onmousedown=\"this.href = appendParamsOnce(this.href, '?campaignid=cmplinktst2&amp;from=SERP&amp;jt=Data+Analyst+-+University+Graduate&amp;fromjk=d0434fab50eedb29&amp;jcid=978d9fd9799d55a8');\" rel=\"noopener\" target=\"_blank\" title=\"Paypal reviews\"></a>\n",
       " <span class=\"ratingsContent\">\n",
       " 3.9<svg class=\"starIcon\" height=\"12px\" role=\"img\" width=\"12px\">\n",
       " <g>\n",
       " <path d=\"M 12.00,4.34 C 12.00,4.34 7.69,3.97 7.69,3.97 7.69,3.97 6.00,0.00 6.00,0.00 6.00,0.00 4.31,3.98 4.31,3.98 4.31,3.98 0.00,4.34 0.00,4.34 0.00,4.34 3.28,7.18 3.28,7.18 3.28,7.18 2.29,11.40 2.29,11.40 2.29,11.40 6.00,9.16 6.00,9.16 6.00,9.16 9.71,11.40 9.71,11.40 9.71,11.40 8.73,7.18 8.73,7.18 8.73,7.18 12.00,4.34 12.00,4.34 Z\" style=\"fill: #FFB103\"></path>\n",
       " </g>\n",
       " </svg>\n",
       " </span>\n",
       " </span></div></div></div>,\n",
       " <div class=\"jobsearch-SerpJobCard unifiedRow row result\" data-jk=\"399d0ced589d5c00\" data-tn-component=\"organicJob\" id=\"p_399d0ced589d5c00\">\n",
       " <h2 class=\"title\">\n",
       " <a class=\"jobtitle turnstileLink\" data-tn-element=\"jobTitle\" href=\"/rc/clk?jk=399d0ced589d5c00&amp;fccid=1321a5b8c249d852&amp;vjs=3\" id=\"jl_399d0ced589d5c00\" onclick=\"setRefineByCookie([]); return rclk(this,jobmap[13],true,0);\" onmousedown=\"return rclk(this,jobmap[13],0);\" rel=\"noopener nofollow\" target=\"_blank\" title=\"Data Analyst\">\n",
       " <b>Data</b> <b>Analyst</b></a>\n",
       " </h2>\n",
       " <div class=\"sjcl\">\n",
       " <div>\n",
       " <span class=\"company\">\n",
       " <a class=\"turnstileLink\" data-tn-element=\"companyName\" href=\"/cmp/Foxtrot\" onmousedown=\"this.href = appendParamsOnce(this.href, 'from=SERP&amp;campaignid=serp-linkcompanyname&amp;fromjk=399d0ced589d5c00&amp;jcid=1321a5b8c249d852')\" rel=\"noopener\" target=\"_blank\">\n",
       " Foxtrot</a></span>\n",
       " <span class=\"ratingsDisplay\">\n",
       " <a aria-label=\"Company rating 3.9 out of 5 stars\" class=\"ratingNumber\" data-tn-variant=\"cmplinktst2\" href=\"/cmp/Foxtrot/reviews\" onmousedown=\"this.href = appendParamsOnce(this.href, '?campaignid=cmplinktst2&amp;from=SERP&amp;jt=Data+Analyst&amp;fromjk=399d0ced589d5c00&amp;jcid=1321a5b8c249d852');\" rel=\"noopener\" target=\"_blank\" title=\"Foxtrot reviews\"></a>\n",
       " <span class=\"ratingsContent\">\n",
       " 3.9<svg class=\"starIcon\" height=\"12px\" role=\"img\" width=\"12px\">\n",
       " <g>\n",
       " <path d=\"M 12.00,4.34 C 12.00,4.34 7.69,3.97 7.69,3.97 7.69,3.97 6.00,0.00 6.00,0.00 6.00,0.00 4.31,3.98 4.31,3.98 4.31,3.98 0.00,4.34 0.00,4.34 0.00,4.34 3.28,7.18 3.28,7.18 3.28,7.18 2.29,11.40 2.29,11.40 2.29,11.40 6.00,9.16 6.00,9.16 6.00,9.16 9.71,11.40 9.71,11.40 9.71,11.40 8.73,7.18 8.73,7.18 8.73,7.18 12.00,4.34 12.00,4.34 Z\" style=\"fill: #FFB103\"></path>\n",
       " </g>\n",
       " </svg>\n",
       " </span>\n",
       " </span></div></div></div>,\n",
       " <div class=\"jobsearch-SerpJobCard unifiedRow row result\" data-jk=\"c6de14d77e96795d\" data-tn-component=\"organicJob\" id=\"p_c6de14d77e96795d\">\n",
       " <h2 class=\"title\">\n",
       " <a class=\"jobtitle turnstileLink\" data-tn-element=\"jobTitle\" href=\"/company/WPD-Management/jobs/Data-Analyst-c6de14d77e96795d?fccid=d65c9bc75050a4dd&amp;vjs=3\" id=\"jl_c6de14d77e96795d\" onclick=\"setRefineByCookie([]); return rclk(this,jobmap[14],true,1);\" onmousedown=\"return rclk(this,jobmap[14],1);\" rel=\"noopener nofollow\" target=\"_blank\" title=\"Data Analyst\">\n",
       " <b>Data</b> <b>Analyst</b></a>\n",
       " </h2>\n",
       " <div class=\"sjcl\">\n",
       " <div>\n",
       " <span class=\"company\">\n",
       " <a class=\"turnstileLink\" data-tn-element=\"companyName\" href=\"/cmp/Wpd-Management\" onmousedown=\"this.href = appendParamsOnce(this.href, 'from=SERP&amp;campaignid=serp-linkcompanyname&amp;fromjk=c6de14d77e96795d&amp;jcid=44f7fa266f005c8f')\" rel=\"noopener\" target=\"_blank\">\n",
       " WPD Management</a></span>\n",
       " <span class=\"ratingsDisplay\">\n",
       " <a aria-label=\"Company rating 3.7 out of 5 stars\" class=\"ratingNumber\" data-tn-variant=\"cmplinktst2\" href=\"/cmp/Wpd-Management/reviews\" onmousedown=\"this.href = appendParamsOnce(this.href, '?campaignid=cmplinktst2&amp;from=SERP&amp;jt=Data+Analyst&amp;fromjk=c6de14d77e96795d&amp;jcid=44f7fa266f005c8f');\" rel=\"noopener\" target=\"_blank\" title=\"Wpd Management reviews\"></a>\n",
       " <span class=\"ratingsContent\">\n",
       " 3.7<svg class=\"starIcon\" height=\"12px\" role=\"img\" width=\"12px\">\n",
       " <g>\n",
       " <path d=\"M 12.00,4.34 C 12.00,4.34 7.69,3.97 7.69,3.97 7.69,3.97 6.00,0.00 6.00,0.00 6.00,0.00 4.31,3.98 4.31,3.98 4.31,3.98 0.00,4.34 0.00,4.34 0.00,4.34 3.28,7.18 3.28,7.18 3.28,7.18 2.29,11.40 2.29,11.40 2.29,11.40 6.00,9.16 6.00,9.16 6.00,9.16 9.71,11.40 9.71,11.40 9.71,11.40 8.73,7.18 8.73,7.18 8.73,7.18 12.00,4.34 12.00,4.34 Z\" style=\"fill: #FFB103\"></path>\n",
       " </g>\n",
       " </svg>\n",
       " </span>\n",
       " </span></div></div></div>]"
      ]
     },
     "execution_count": 24,
     "metadata": {},
     "output_type": "execute_result"
    }
   ],
   "source": [
    "cards"
   ]
  },
  {
   "cell_type": "markdown",
   "metadata": {},
   "source": [
    "# Prototype the model with a single record"
   ]
  },
  {
   "cell_type": "code",
   "execution_count": null,
   "metadata": {},
   "outputs": [],
   "source": [
    "card = cards[5]"
   ]
  },
  {
   "cell_type": "code",
   "execution_count": null,
   "metadata": {},
   "outputs": [],
   "source": [
    "cards[5]"
   ]
  },
  {
   "cell_type": "code",
   "execution_count": null,
   "metadata": {},
   "outputs": [],
   "source": [
    "atag = card.h2.a"
   ]
  },
  {
   "cell_type": "code",
   "execution_count": null,
   "metadata": {},
   "outputs": [],
   "source": [
    "job_title = atag.get('title')"
   ]
  },
  {
   "cell_type": "code",
   "execution_count": null,
   "metadata": {},
   "outputs": [],
   "source": [
    "job_url = 'https://www.indeed.com' + atag.get('href')"
   ]
  },
  {
   "cell_type": "code",
   "execution_count": null,
   "metadata": {},
   "outputs": [],
   "source": [
    "company = card.find('span', 'company').text.strip()"
   ]
  },
  {
   "cell_type": "code",
   "execution_count": null,
   "metadata": {},
   "outputs": [],
   "source": [
    "job_location = card.find('div', 'recJobLoc').get('data-rc-loc')"
   ]
  },
  {
   "cell_type": "code",
   "execution_count": null,
   "metadata": {},
   "outputs": [],
   "source": [
    "job_summary = card.find('div', 'summary').text.strip().replace('\\n', ' ')"
   ]
  },
  {
   "cell_type": "code",
   "execution_count": null,
   "metadata": {},
   "outputs": [],
   "source": [
    "post_date = card.find('span', 'date').text"
   ]
  },
  {
   "cell_type": "code",
   "execution_count": null,
   "metadata": {},
   "outputs": [],
   "source": [
    "today = datetime.today().strftime('%Y-%m-%d')"
   ]
  },
  {
   "cell_type": "code",
   "execution_count": null,
   "metadata": {},
   "outputs": [],
   "source": [
    "try:\n",
    "    card.find('span', 'salaryText').text.strip()\n",
    "except AttributeError:\n",
    "    job_salary = ''"
   ]
  },
  {
   "cell_type": "markdown",
   "metadata": {},
   "source": [
    "# Generalize the model with a function"
   ]
  },
  {
   "cell_type": "code",
   "execution_count": null,
   "metadata": {},
   "outputs": [],
   "source": [
    "def get_record(card):\n",
    "    '''Extract job data from a single record'''\n",
    "    atag = card.h2.a\n",
    "    \n",
    "    job_title = atag.get('title')\n",
    "    \n",
    "    company = card.find('span', 'company').text.strip()\n",
    "    \n",
    "    try:\n",
    "        job_location = card.find('div', 'recJobLoc').get('data-rc-loc')\n",
    "    except AttributeError:\n",
    "        job_location = ''\n",
    "        \n",
    "    try:\n",
    "        job_summary = card.find('div', 'summary').text.strip().replace('\\n', ' ')\n",
    "    except AttributeError:\n",
    "        job_summary = ''\n",
    "    \n",
    "    try:\n",
    "        job_salary = card.find('span', 'salaryText').text.strip()\n",
    "    except AttributeError:\n",
    "        job_salary = ''\n",
    "        \n",
    "    try:\n",
    "        post_date = card.find('span', 'date').text\n",
    "    except AttributeError:\n",
    "        post_date = ''\n",
    "        \n",
    "    today = datetime.today().strftime('%Y-%m-%d')\n",
    "        \n",
    "    job_url = 'https://www.indeed.com' + atag.get('href')\n",
    "    \n",
    "    record = (job_title, company,job_location, job_summary, job_salary, post_date, today, job_url)\n",
    "    \n",
    "    return record"
   ]
  },
  {
   "cell_type": "code",
   "execution_count": null,
   "metadata": {},
   "outputs": [],
   "source": [
    "records = []\n",
    "\n",
    "for card in cards:\n",
    "    record=get_record(card)\n",
    "    records.append(record)"
   ]
  },
  {
   "cell_type": "code",
   "execution_count": null,
   "metadata": {},
   "outputs": [],
   "source": [
    "records[5]"
   ]
  },
  {
   "cell_type": "markdown",
   "metadata": {},
   "source": [
    "# Get to next page of results"
   ]
  },
  {
   "cell_type": "code",
   "execution_count": null,
   "metadata": {},
   "outputs": [],
   "source": [
    "while True:\n",
    "    try:\n",
    "        url = 'https://www.indeed.com'+soup.find('a', {'aria-label':'Next'}).get('href')\n",
    "    except AttributeError:\n",
    "        break\n",
    "    \n",
    "    response = requests.get(url)\n",
    "    soup = BeautifulSoup(response.text, 'html.parser')\n",
    "    cards = soup.find_all('div', 'jobsearch-SerpJobCard')\n",
    "    \n",
    "    for card in cards:\n",
    "        record = get_record(card)\n",
    "        records.append(record)"
   ]
  },
  {
   "cell_type": "code",
   "execution_count": null,
   "metadata": {},
   "outputs": [],
   "source": [
    "len(records)"
   ]
  },
  {
   "cell_type": "markdown",
   "metadata": {},
   "source": [
    "# Put it all together"
   ]
  },
  {
   "cell_type": "code",
   "execution_count": 25,
   "metadata": {},
   "outputs": [],
   "source": [
    "import csv\n",
    "from datetime import datetime\n",
    "import requests\n",
    "from bs4 import BeautifulSoup\n",
    "\n",
    "def get_url(position, location):\n",
    "    \"\"\"Generate url from position and location\"\"\"\n",
    "    template = 'https://www.indeed.com/jobs?q={}&l={}'\n",
    "    position = position.replace(' ', '+')\n",
    "    location = location.replace(' ', '+')\n",
    "    url = template.format(position, location)\n",
    "    return url\n",
    "\n",
    "def get_record(card):\n",
    "    '''Extract job data from a single record'''\n",
    "    atag = card.h2.a\n",
    "    job_title = atag.get('title')\n",
    "    company = card.find('span', 'company').text.strip()\n",
    "    try:\n",
    "        job_location = card.find('div', 'recJobLoc').get('data-rc-loc')\n",
    "    except AttributeError:\n",
    "        job_location = ''\n",
    "    try:\n",
    "        job_summary = card.find('div', 'summary').text.strip().replace('\\n', ' ')\n",
    "    except AttributeError:\n",
    "        job_summary = ''\n",
    "    try:\n",
    "        job_salary = card.find('span', 'salaryText').text.strip()\n",
    "    except AttributeError:\n",
    "        job_salary = ''\n",
    "    try:\n",
    "        post_date = card.find('span', 'date').text\n",
    "    except AttributeError:\n",
    "        post_date = ''\n",
    "    today = datetime.today().strftime('%Y-%m-%d')\n",
    "    job_url = 'https://www.indeed.com' + atag.get('href')\n",
    "    \n",
    "    record = (job_title, company,job_location, job_summary, job_salary, post_date, today, job_url)\n",
    "    return record\n",
    "\n",
    "def main(position, location):\n",
    "    \"\"\"Run the main program routine\"\"\"\n",
    "    records = []\n",
    "    url = get_url(position, location)\n",
    "    \n",
    "    # extract the job data\n",
    "    while True:\n",
    "        response = requests.get(url)\n",
    "        soup = BeautifulSoup(response.text, 'html.parser')\n",
    "        cards = soup.find_all('div', 'jobsearch-SerpJobCard')\n",
    "        for card in cards:\n",
    "            record = get_record(card)\n",
    "            records.append(record)\n",
    "        try:\n",
    "            url = 'https://www.indeed.com' + soup.find('a', {'aria-label': 'Next'}).get('href')\n",
    "        except AttributeError:\n",
    "            break\n",
    "            \n",
    "    #save the job data\n",
    "    with open('scrape.csv', 'w', newline='', encoding='utf-8') as f:\n",
    "        writer = csv.writer(f)\n",
    "        writer.writerow(['JobTitle', 'Company', 'Location', 'Summary', 'Salary', 'PostDate', 'ExtractDate', 'JobUrl'])\n",
    "        \n",
    "        writer.writerows(records)"
   ]
  },
  {
   "cell_type": "code",
   "execution_count": 26,
   "metadata": {},
   "outputs": [],
   "source": [
    "main('analyst', 'chicago il')"
   ]
  }
 ],
 "metadata": {
  "kernelspec": {
   "display_name": "Python 3",
   "language": "python",
   "name": "python3"
  },
  "language_info": {
   "codemirror_mode": {
    "name": "ipython",
    "version": 3
   },
   "file_extension": ".py",
   "mimetype": "text/x-python",
   "name": "python",
   "nbconvert_exporter": "python",
   "pygments_lexer": "ipython3",
   "version": "3.7.6"
  }
 },
 "nbformat": 4,
 "nbformat_minor": 4
}
