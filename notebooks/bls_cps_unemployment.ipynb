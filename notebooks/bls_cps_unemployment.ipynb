{
 "cells": [
  {
   "cell_type": "markdown",
   "metadata": {},
   "source": [
    "# Labor Force Statistics from the Current Population Survey"
   ]
  },
  {
   "cell_type": "markdown",
   "metadata": {},
   "source": [
    "From the U.S. BUREAU OF LABOR STATISTICS site:\n",
    "\n",
    "> The Current Population Survey (CPS) is a monthly survey of households conducted by the Bureau of Census for the Bureau of Labor Statistics. It provides a comprehensive body of data on the [labor force](https://www.bls.gov/cps/lfcharacteristics.htm#laborforce), [employment](https://www.bls.gov/cps/lfcharacteristics.htm#emp), [unemployment](https://www.bls.gov/cps/lfcharacteristics.htm#unemp), [persons not in the labor force](https://www.bls.gov/cps/lfcharacteristics.htm#nlf), [hours of work](https://www.bls.gov/cps/lfcharacteristics.htm#hours), [earnings](https://www.bls.gov/cps/earnings.htm), and [other demographic](https://www.bls.gov/cps/demographics.htm) and [labor force characteristics](https://www.bls.gov/cps/lfcharacteristics.htm)."
   ]
  },
  {
   "cell_type": "code",
   "execution_count": null,
   "metadata": {},
   "outputs": [],
   "source": []
  }
 ],
 "metadata": {
  "kernelspec": {
   "display_name": "Python 3",
   "language": "python",
   "name": "python3"
  },
  "language_info": {
   "codemirror_mode": {
    "name": "ipython",
    "version": 3
   },
   "file_extension": ".py",
   "mimetype": "text/x-python",
   "name": "python",
   "nbconvert_exporter": "python",
   "pygments_lexer": "ipython3",
   "version": "3.7.6"
  }
 },
 "nbformat": 4,
 "nbformat_minor": 4
}
